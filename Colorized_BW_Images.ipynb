{
  "nbformat": 4,
  "nbformat_minor": 0,
  "metadata": {
    "colab": {
      "name": "Colorized_BW_Images.ipynb",
      "provenance": [],
      "authorship_tag": "ABX9TyMPIZIOfYezQflgip+tA2QQ",
      "include_colab_link": true
    },
    "kernelspec": {
      "name": "python3",
      "display_name": "Python 3"
    },
    "language_info": {
      "name": "python"
    }
  },
  "cells": [
    {
      "cell_type": "markdown",
      "metadata": {
        "id": "view-in-github",
        "colab_type": "text"
      },
      "source": [
        "<a href=\"https://colab.research.google.com/github/AtiqSha/colorised_b-w_image/blob/master/Colorized_BW_Images.ipynb\" target=\"_parent\"><img src=\"https://colab.research.google.com/assets/colab-badge.svg\" alt=\"Open In Colab\"/></a>"
      ]
    },
    {
      "cell_type": "markdown",
      "metadata": {
        "id": "xHoIpcD9Q6-n"
      },
      "source": [
        "#####Mount google drive storage"
      ]
    },
    {
      "cell_type": "code",
      "metadata": {
        "id": "aBNf4J_MQyWl"
      },
      "source": [
        "from google.colab import drive\n",
        "drive.mount('/content/drive')"
      ],
      "execution_count": null,
      "outputs": []
    },
    {
      "cell_type": "markdown",
      "metadata": {
        "id": "sNH4Ylb0Q6RH"
      },
      "source": [
        "#####Import packages and set image path"
      ]
    },
    {
      "cell_type": "code",
      "metadata": {
        "id": "o7k-XmwuRqPl"
      },
      "source": [
        "from keras.layers import Conv2D, UpSampling2D, InputLayer, Conv2DTranspose\n",
        "from keras.layers import Activation, Dense, Dropout, Flatten\n",
        "from keras.layers.normalization import BatchNormalization\n",
        "from keras.models import Sequential\n",
        "from keras.preprocessing.image import ImageDataGenerator, array_to_img, img_to_array, load_img\n",
        "from skimage.color import rgb2lab, lab2rgb, rgb2gray, xyz2lab\n",
        "from skimage.io import imsave\n",
        "import numpy as np\n",
        "import os\n",
        "import random\n",
        "import tensorflow as tf\n",
        "import cv2"
      ],
      "execution_count": null,
      "outputs": []
    },
    {
      "cell_type": "code",
      "metadata": {
        "id": "yc8oV_7NRuVu"
      },
      "source": [
        "INPUT_PATH = '/content/drive/MyDrive/bw/inputs/'\n",
        "OUTPUT_PATH = '/content/drive/MyDrive/bw/outputs/'\n",
        "TRAIN_IMAGE = '{}/train.jpg'.format(INPUT_PATH)\n",
        "TEST_COLOR_IMAGE = '{}/test_colorised.jpg'.format(INPUT_PATH)"
      ],
      "execution_count": null,
      "outputs": []
    },
    {
      "cell_type": "markdown",
      "metadata": {
        "id": "tQmy_NIJSuOn"
      },
      "source": [
        "#####Prepare training image - test on single image due to lack of storage"
      ]
    },
    {
      "cell_type": "code",
      "metadata": {
        "id": "nhyMtT8JSrqE"
      },
      "source": [
        "# Get images\n",
        "train_image = img_to_array(load_img(TRAIN_IMAGE))\n",
        "train_image = np.array(train_image, dtype=float)\n",
        "height, width, channel = train_image.shape\n",
        "print(train_image.shape)"
      ],
      "execution_count": null,
      "outputs": []
    },
    {
      "cell_type": "code",
      "metadata": {
        "id": "sxJU5q41S2mm"
      },
      "source": [
        "X = rgb2lab(1.0/255*train_image)[:,:,0]\n",
        "Y = rgb2lab(1.0/255*train_image)[:,:,1:]\n",
        "Y /= 128\n",
        "X = X.reshape(1, height, width, 1)\n",
        "Y = Y.reshape(1, height, width, 2)"
      ],
      "execution_count": null,
      "outputs": []
    },
    {
      "cell_type": "markdown",
      "metadata": {
        "id": "uriAcrHDT6mF"
      },
      "source": [
        "#####Build neural network"
      ]
    },
    {
      "cell_type": "code",
      "metadata": {
        "id": "8YOb5BRiTCKH"
      },
      "source": [
        "model = Sequential()\n",
        "model.add(InputLayer(input_shape=(None, None, 1)))\n",
        "model.add(Conv2D(8, (3, 3), activation='relu', padding='same', strides=2))\n",
        "model.add(Conv2D(8, (3, 3), activation='relu', padding='same'))\n",
        "model.add(Conv2D(16, (3, 3), activation='relu', padding='same'))\n",
        "model.add(Conv2D(16, (3, 3), activation='relu', padding='same', strides=2))\n",
        "model.add(Conv2D(32, (3, 3), activation='relu', padding='same'))\n",
        "model.add(Conv2D(32, (3, 3), activation='relu', padding='same', strides=2))\n",
        "model.add(UpSampling2D((2, 2)))\n",
        "model.add(Conv2D(32, (3, 3), activation='relu', padding='same'))\n",
        "model.add(UpSampling2D((2, 2)))\n",
        "model.add(Conv2D(16, (3, 3), activation='relu', padding='same'))\n",
        "model.add(UpSampling2D((2, 2)))\n",
        "model.add(Conv2D(2, (3, 3), activation='tanh', padding='same'))"
      ],
      "execution_count": null,
      "outputs": []
    },
    {
      "cell_type": "code",
      "metadata": {
        "id": "xOpvN17wbtR3"
      },
      "source": [
        "model.summary()"
      ],
      "execution_count": null,
      "outputs": []
    },
    {
      "cell_type": "code",
      "metadata": {
        "id": "BoyxIb5nT_-I"
      },
      "source": [
        "model.compile(optimizer='rmsprop',loss='mse')"
      ],
      "execution_count": null,
      "outputs": []
    },
    {
      "cell_type": "code",
      "metadata": {
        "id": "9NMueFCUUDJh"
      },
      "source": [
        "model.fit(x=X, y=Y, batch_size=1, epochs=100)"
      ],
      "execution_count": null,
      "outputs": []
    },
    {
      "cell_type": "code",
      "metadata": {
        "id": "sEjm8TiyUPEJ"
      },
      "source": [
        "print(model.evaluate(X, Y, batch_size=1))\n",
        "output = model.predict(X)\n",
        "output *= 128\n",
        "# Output colorizations\n",
        "cur = np.zeros((height, width, 3))\n",
        "cur[:,:,0] = X[0][:,:,0]\n",
        "cur[:,:,1:] = output[0]"
      ],
      "execution_count": null,
      "outputs": []
    },
    {
      "cell_type": "code",
      "metadata": {
        "id": "rA2gOZLuYvgN"
      },
      "source": [
        "imsave('{}/img_results.png'.format(OUTPUT_PATH), lab2rgb(cur))"
      ],
      "execution_count": null,
      "outputs": []
    },
    {
      "cell_type": "code",
      "metadata": {
        "id": "I_a0xfatb86X"
      },
      "source": [
        "# save model in h5 ext\n",
        "MODEL_PATH = '{}/colorised_test_model.h5'.format(OUTPUT_PATH)\n",
        "model.save(MODEL_PATH)"
      ],
      "execution_count": null,
      "outputs": []
    },
    {
      "cell_type": "markdown",
      "metadata": {
        "id": "ZPiBwPIFaBP8"
      },
      "source": [
        "#####Test different image"
      ]
    },
    {
      "cell_type": "code",
      "metadata": {
        "id": "30Gx2SqlcLcN"
      },
      "source": [
        "## reload trained model if necessary\n",
        "MODEL_PATH = '{}/colorised_test_model.h5'.format(OUTPUT_PATH)'\n",
        "model = tf.keras.models.load_model(MODEL_PATH)"
      ],
      "execution_count": null,
      "outputs": []
    },
    {
      "cell_type": "code",
      "metadata": {
        "id": "8wrl0nNRd183"
      },
      "source": [
        "#test colorised image to compare\n",
        "test_image = img_to_array(load_img(TEST_COLOR_IMAGE))\n",
        "test_image = np.array(test_image, dtype=float)\n",
        "height2, width2, channel2 = test_coloured_image.shape\n",
        "print(test_coloured_image.shape)\n",
        "\n",
        "Xtest = rgb2lab(1.0/255*test_coloured_image)[:,:,0]\n",
        "Ytest = rgb2lab(1.0/255*test_coloured_image)[:,:,1:]\n",
        "Ytest /= 128\n",
        "Xtest = Xtest.reshape(1, height2, width2, 1)\n",
        "Ytest = Ytest.reshape(1, height2, width2, 2)\n",
        "output_test = model.predict(Xtest)\n",
        "output_test *= 128\n",
        "\n",
        "# Output colorizations\n",
        "cur_test = np.zeros((height2, width2, 3))\n",
        "cur_test[:,:,0] = Xtest[0][:,:,0]\n",
        "cur_test[:,:,1:] = output_test[0]\n",
        "imsave('{}/img_test_results.png'.format(OUTPUT_PATH), lab2rgb(cur_test))"
      ],
      "execution_count": null,
      "outputs": []
    }
  ]
}